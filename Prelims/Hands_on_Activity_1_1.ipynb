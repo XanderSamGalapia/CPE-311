{
  "cells": [
    {
      "cell_type": "markdown",
      "source": [
        "#**Galapia, Xander Sam E.**"
      ],
      "metadata": {
        "id": "4ymkcGQOMD-P"
      },
      "id": "4ymkcGQOMD-P"
    },
    {
      "cell_type": "markdown",
      "id": "193686ba",
      "metadata": {
        "id": "193686ba"
      },
      "source": [
        "# Hands-on Activity 1.1 | Optimization and Knapsack Problem"
      ]
    },
    {
      "cell_type": "markdown",
      "id": "8d87e989",
      "metadata": {
        "id": "8d87e989"
      },
      "source": [
        "#### Objective(s):\n",
        "\n",
        "This activity aims to demonstrate how to apply  greedy and brute force algorithms to solve optimization problems"
      ]
    },
    {
      "cell_type": "markdown",
      "id": "7717a27a",
      "metadata": {
        "id": "7717a27a"
      },
      "source": [
        "#### Intended Learning Outcomes (ILOs):\n",
        "* Demonstrate how to solve knapsacks problems using greedy algorithm\n",
        "* Demonstrate how to  solve knapsacks problems using brute force algorithm\n"
      ]
    },
    {
      "cell_type": "markdown",
      "id": "6454cfe7",
      "metadata": {
        "id": "6454cfe7"
      },
      "source": [
        "#### Resources:\n",
        "* Jupyter Notebook\n"
      ]
    },
    {
      "cell_type": "markdown",
      "id": "433711ac",
      "metadata": {
        "id": "433711ac"
      },
      "source": [
        "#### Procedures:"
      ]
    },
    {
      "cell_type": "markdown",
      "id": "e54a8995",
      "metadata": {
        "id": "e54a8995"
      },
      "source": [
        "1. Create a Food class that defines the following:\n",
        "* name of the food\n",
        "* value of the food\n",
        "* calories of the food\n",
        "\n",
        "2. Create the following methods inside the Food class:\n",
        "* A method that returns the value of the food\n",
        "* A method that returns the cost of the food\n",
        "* A method that calculates the density of the food (Value / Cost)\n",
        "* A method that returns a string to display the name, value and calories of the food"
      ]
    },
    {
      "cell_type": "code",
      "execution_count": null,
      "id": "cdd8310c",
      "metadata": {
        "id": "cdd8310c"
      },
      "outputs": [],
      "source": [
        "class Food(object):\n",
        "    def __init__(self, n, v, w,k):\n",
        "        self.name = n\n",
        "        self.value = v\n",
        "        self.calories = w\n",
        "        self.weight = k\n",
        "    def getValue(self):\n",
        "        return self.value\n",
        "    def getCost(self):\n",
        "        return self.calories\n",
        "    def density(self):\n",
        "        return self.getValue()/self.getCost()\n",
        "    def getWeight(self):\n",
        "        return self.weight\n",
        "    def __str__(self):\n",
        "        return self.name + ': <' + str(self.value)+ ', ' + str(self.calories) + ', '+ str(self.weight) + '>'"
      ]
    },
    {
      "cell_type": "markdown",
      "id": "b36eee15",
      "metadata": {
        "id": "b36eee15"
      },
      "source": [
        "3. Create a buildMenu method that builds the name, value and calories of the food\n"
      ]
    },
    {
      "cell_type": "code",
      "execution_count": null,
      "id": "509672a4",
      "metadata": {
        "id": "509672a4"
      },
      "outputs": [],
      "source": [
        "def buildMenu(names, values, calories, weights):\n",
        "    menu = []\n",
        "    for i in range(len(values)):\n",
        "        menu.append(Food(names[i], values[i],calories[i], weights[i]))\n",
        "    return menu"
      ]
    },
    {
      "cell_type": "markdown",
      "id": "86f3a85b",
      "metadata": {
        "id": "86f3a85b"
      },
      "source": [
        "4. Create a method greedy to return total value and cost of added food based on the desired maximum cost"
      ]
    },
    {
      "cell_type": "code",
      "execution_count": null,
      "id": "b76912f0",
      "metadata": {
        "id": "b76912f0"
      },
      "outputs": [],
      "source": [
        "def greedy(items, maxCost, keyFunction):\n",
        "    \"\"\"Assumes items a list, maxCost >= 0,         keyFunction maps elements of items to numbers\"\"\"\n",
        "    itemsCopy = sorted(items, key = keyFunction,\n",
        "                       reverse = True)\n",
        "    result = []\n",
        "    totalValue, totalCost = 0.0, 0.0\n",
        "    for i in range(len(itemsCopy)):\n",
        "        if (totalCost+itemsCopy[i].getCost()) <= maxCost:\n",
        "            result.append(itemsCopy[i])\n",
        "            totalCost += itemsCopy[i].getCost()\n",
        "            totalValue += itemsCopy[i].getValue()\n",
        "    return (result, totalValue)"
      ]
    },
    {
      "cell_type": "markdown",
      "id": "887c566c",
      "metadata": {
        "id": "887c566c"
      },
      "source": [
        "5. Create a testGreedy method to test the greedy method"
      ]
    },
    {
      "cell_type": "code",
      "execution_count": null,
      "id": "61f2a7b0",
      "metadata": {
        "id": "61f2a7b0"
      },
      "outputs": [],
      "source": [
        "def testGreedy(items, constraint, keyFunction):\n",
        "    taken, val = greedy(items, constraint, keyFunction)\n",
        "    print('Total value of items taken =', val)\n",
        "    for item in taken:\n",
        "        print('   ', item)"
      ]
    },
    {
      "cell_type": "code",
      "execution_count": null,
      "id": "f93e5bfe",
      "metadata": {
        "id": "f93e5bfe"
      },
      "outputs": [],
      "source": [
        "def testGreedys(foods, maxUnits):\n",
        "    print('Use greedy by value to allocate', maxUnits,          'calories')\n",
        "    testGreedy(foods, maxUnits, Food.getValue)\n",
        "    print('\\nUse greedy by cost to allocate', maxUnits,          'calories')\n",
        "    testGreedy(foods, maxUnits, lambda x: 1/Food.getCost(x))\n",
        "    print('\\nUse greedy by density to allocate', maxUnits,          'calories')\n",
        "    testGreedy(foods, maxUnits, Food.density)\n"
      ]
    },
    {
      "cell_type": "markdown",
      "id": "cdf99f37",
      "metadata": {
        "id": "cdf99f37"
      },
      "source": [
        "6. Create arrays of food name, values and calories\n",
        "7. Call the buildMenu to create menu for food\n",
        "8. Use testGreedys method to pick food according to the desired calories"
      ]
    },
    {
      "cell_type": "code",
      "execution_count": null,
      "id": "ee22c2dd",
      "metadata": {
        "id": "ee22c2dd",
        "outputId": "7155b9d2-31c9-49b7-e1c2-80ce5004c578",
        "colab": {
          "base_uri": "https://localhost:8080/"
        }
      },
      "outputs": [
        {
          "output_type": "stream",
          "name": "stdout",
          "text": [
            "Use greedy by value to allocate 2000 calories\n",
            "Total value of items taken = 603.0\n",
            "    burger: <100, 354, 4>\n",
            "    pizza: <95, 258, 1>\n",
            "    beer: <90, 154, 2>\n",
            "    fries: <90, 365, 5>\n",
            "    wine: <89, 123, 2>\n",
            "    cola: <79, 150, 6>\n",
            "    apple: <50, 95, 7>\n",
            "    donut: <10, 195, 8>\n",
            "\n",
            "Use greedy by cost to allocate 2000 calories\n",
            "Total value of items taken = 603.0\n",
            "    apple: <50, 95, 7>\n",
            "    wine: <89, 123, 2>\n",
            "    cola: <79, 150, 6>\n",
            "    beer: <90, 154, 2>\n",
            "    donut: <10, 195, 8>\n",
            "    pizza: <95, 258, 1>\n",
            "    burger: <100, 354, 4>\n",
            "    fries: <90, 365, 5>\n",
            "\n",
            "Use greedy by density to allocate 2000 calories\n",
            "Total value of items taken = 603.0\n",
            "    wine: <89, 123, 2>\n",
            "    beer: <90, 154, 2>\n",
            "    cola: <79, 150, 6>\n",
            "    apple: <50, 95, 7>\n",
            "    pizza: <95, 258, 1>\n",
            "    burger: <100, 354, 4>\n",
            "    fries: <90, 365, 5>\n",
            "    donut: <10, 195, 8>\n"
          ]
        }
      ],
      "source": [
        "class Food(object):\n",
        "    def __init__(self, n, v, w,k):\n",
        "        self.name = n\n",
        "        self.value = v\n",
        "        self.calories = w\n",
        "        self.weight = k\n",
        "    def getValue(self):\n",
        "        return self.value\n",
        "    def getCost(self):\n",
        "        return self.calories\n",
        "    def density(self):\n",
        "        return self.getValue()/self.getCost()\n",
        "    def getWeight(self):\n",
        "        return self.weight\n",
        "    def __str__(self):\n",
        "        return self.name + ': <' + str(self.value)+ ', ' + str(self.calories) + ', '+ str(self.weight) + '>'\n",
        "\n",
        "def buildMenu(names, values, calories, weights):\n",
        "    menu = []\n",
        "    for i in range(len(values)):\n",
        "        menu.append(Food(names[i], values[i],calories[i], weights[i]))\n",
        "    return menu\n",
        "\n",
        "def greedy(items, maxCost, keyFunction):\n",
        "    \"\"\"Assumes items a list, maxCost >= 0,         keyFunction maps elements of items to numbers\"\"\"\n",
        "    itemsCopy = sorted(items, key = keyFunction,\n",
        "                       reverse = True)\n",
        "    result = []\n",
        "    totalValue, totalCost = 0.0, 0.0\n",
        "    for i in range(len(itemsCopy)):\n",
        "        if (totalCost+itemsCopy[i].getCost()) <= maxCost:\n",
        "            result.append(itemsCopy[i])\n",
        "            totalCost += itemsCopy[i].getCost()\n",
        "            totalValue += itemsCopy[i].getValue()\n",
        "    return (result, totalValue)\n",
        "\n",
        "def testGreedy(items, constraint, keyFunction):\n",
        "    taken, val = greedy(items, constraint, keyFunction)\n",
        "    print('Total value of items taken =', val)\n",
        "    for item in taken:\n",
        "        print('   ', item)\n",
        "\n",
        "def testGreedys(foods, maxUnits):\n",
        "    print('Use greedy by value to allocate', maxUnits,          'calories')\n",
        "    testGreedy(foods, maxUnits, Food.getValue)\n",
        "    print('\\nUse greedy by cost to allocate', maxUnits,          'calories')\n",
        "    testGreedy(foods, maxUnits, lambda x: 1/Food.getCost(x))\n",
        "    print('\\nUse greedy by density to allocate', maxUnits,          'calories')\n",
        "    testGreedy(foods, maxUnits, Food.density)\n",
        "\n",
        "\n",
        "\n",
        "names = ['wine', 'beer', 'pizza', 'burger', 'fries','cola', 'apple', 'donut', 'cake']\n",
        "values = [89,90,95,100,90,79,50,10]\n",
        "calories = [123,154,258,354,365,150,95,195]\n",
        "weights = [2,2,1,4,5,6,7,8,9,10]\n",
        "foods = buildMenu(names, values, calories,weights)\n",
        "testGreedys(foods, 2000)"
      ]
    },
    {
      "cell_type": "markdown",
      "id": "a6bae808",
      "metadata": {
        "id": "a6bae808"
      },
      "source": [
        "Task 1: Change the maxUnits to 100"
      ]
    },
    {
      "cell_type": "code",
      "execution_count": null,
      "id": "3c9655c5",
      "metadata": {
        "id": "3c9655c5",
        "colab": {
          "base_uri": "https://localhost:8080/"
        },
        "outputId": "014e61c9-f32d-4229-918f-45f307b83d6b"
      },
      "outputs": [
        {
          "output_type": "stream",
          "name": "stdout",
          "text": [
            "Use greedy by value to allocate 100 calories\n",
            "Total value of items taken = 50.0\n",
            "    apple: <50, 95, 250>\n",
            "\n",
            "Use greedy by cost to allocate 100 calories\n",
            "Total value of items taken = 50.0\n",
            "    apple: <50, 95, 250>\n",
            "\n",
            "Use greedy by density to allocate 100 calories\n",
            "Total value of items taken = 50.0\n",
            "    apple: <50, 95, 250>\n",
            "\n",
            "Use greedy by weight to allocate 100 calories\n",
            "Total value of items taken = 50.0\n",
            "    apple: <50, 95, 250>\n"
          ]
        }
      ],
      "source": [
        "#type your code here\n",
        "\n",
        "names = ['wine', 'beer', 'pizza', 'burger', 'fries','cola', 'apple', 'donut', 'cake']\n",
        "values = [89,90,95,100,90,79,50,10]\n",
        "calories = [123,154,258,354,365,150,95,195]\n",
        "weights = [600,500,150,200,150,600,250,150,180]\n",
        "foods = buildMenu(names, values, calories,weights)\n",
        "testGreedys(foods, 100)"
      ]
    },
    {
      "cell_type": "markdown",
      "id": "d13f4bdc",
      "metadata": {
        "id": "d13f4bdc"
      },
      "source": [
        "Task 2: Modify codes to add additional weight (criterion) to select food items."
      ]
    },
    {
      "cell_type": "code",
      "execution_count": null,
      "id": "61fd22fa",
      "metadata": {
        "id": "61fd22fa",
        "colab": {
          "base_uri": "https://localhost:8080/"
        },
        "outputId": "4c212aae-7eb8-45c1-f81f-79749747a077"
      },
      "outputs": [
        {
          "output_type": "stream",
          "name": "stdout",
          "text": [
            "Use greedy by value to allocate 2000 calories\n",
            "Total value of items taken = 603.0\n",
            "    burger: <100, 354, 200>\n",
            "    pizza: <95, 258, 150>\n",
            "    beer: <90, 154, 500>\n",
            "    fries: <90, 365, 150>\n",
            "    wine: <89, 123, 600>\n",
            "    cola: <79, 150, 600>\n",
            "    apple: <50, 95, 250>\n",
            "    donut: <10, 195, 150>\n",
            "\n",
            "Use greedy by cost to allocate 2000 calories\n",
            "Total value of items taken = 603.0\n",
            "    apple: <50, 95, 250>\n",
            "    wine: <89, 123, 600>\n",
            "    cola: <79, 150, 600>\n",
            "    beer: <90, 154, 500>\n",
            "    donut: <10, 195, 150>\n",
            "    pizza: <95, 258, 150>\n",
            "    burger: <100, 354, 200>\n",
            "    fries: <90, 365, 150>\n",
            "\n",
            "Use greedy by density to allocate 2000 calories\n",
            "Total value of items taken = 603.0\n",
            "    wine: <89, 123, 600>\n",
            "    beer: <90, 154, 500>\n",
            "    cola: <79, 150, 600>\n",
            "    apple: <50, 95, 250>\n",
            "    pizza: <95, 258, 150>\n",
            "    burger: <100, 354, 200>\n",
            "    fries: <90, 365, 150>\n",
            "    donut: <10, 195, 150>\n",
            "\n",
            "Use greedy by weight to allocate 2000 calories\n",
            "Total value of items taken = 603.0\n",
            "    wine: <89, 123, 600>\n",
            "    cola: <79, 150, 600>\n",
            "    beer: <90, 154, 500>\n",
            "    apple: <50, 95, 250>\n",
            "    burger: <100, 354, 200>\n",
            "    pizza: <95, 258, 150>\n",
            "    fries: <90, 365, 150>\n",
            "    donut: <10, 195, 150>\n"
          ]
        }
      ],
      "source": [
        "class Food(object):\n",
        "    def __init__(self, n, v, w,k):\n",
        "        self.name = n\n",
        "        self.value = v\n",
        "        self.calories = w\n",
        "        self.weight = k\n",
        "    def getValue(self):\n",
        "        return self.value\n",
        "    def getCost(self):\n",
        "        return self.calories\n",
        "    def density(self):\n",
        "        return self.getValue()/self.getCost()\n",
        "    def getWeight(self):\n",
        "        return self.weight\n",
        "    def __str__(self):\n",
        "        return self.name + ': <' + str(self.value)+ ', ' + str(self.calories) + ', '+ str(self.weight) + '>'\n",
        "\n",
        "def buildMenu(names, values, calories, weights):\n",
        "    menu = []\n",
        "    for i in range(len(values)):\n",
        "        menu.append(Food(names[i], values[i],calories[i], weights[i]))\n",
        "    return menu\n",
        "\n",
        "def greedy(items, maxCost, keyFunction):\n",
        "    \"\"\"Assumes items a list, maxCost >= 0,         keyFunction maps elements of items to numbers\"\"\"\n",
        "    itemsCopy = sorted(items, key = keyFunction,\n",
        "                       reverse = True)\n",
        "    result = []\n",
        "    totalValue, totalCost, totalWeight= 0.0, 0.0, 0.0\n",
        "    for i in range(len(itemsCopy)):\n",
        "        if (totalCost+itemsCopy[i].getCost()) <= maxCost:\n",
        "            result.append(itemsCopy[i])\n",
        "            totalCost += itemsCopy[i].getCost()\n",
        "            totalValue += itemsCopy[i].getValue()\n",
        "            totalWeight += itemsCopy[i].getWeight()\n",
        "    return (result, totalValue)\n",
        "\n",
        "def testGreedy(items, constraint, keyFunction):\n",
        "    taken, val = greedy(items, constraint, keyFunction)\n",
        "    print('Total value of items taken =', val)\n",
        "    for item in taken:\n",
        "        print('   ', item)\n",
        "\n",
        "def testGreedys(foods, maxUnits):\n",
        "    print('Use greedy by value to allocate', maxUnits,          'calories')\n",
        "    testGreedy(foods, maxUnits, Food.getValue)\n",
        "    print('\\nUse greedy by cost to allocate', maxUnits,          'calories')\n",
        "    testGreedy(foods, maxUnits, lambda x: 1/Food.getCost(x))\n",
        "    print('\\nUse greedy by density to allocate', maxUnits,          'calories')\n",
        "    testGreedy(foods, maxUnits, Food.density)\n",
        "    print('\\nUse greedy by weight to allocate', maxUnits,     'calories')\n",
        "    testGreedy(foods, maxUnits, Food.getWeight)\n",
        "\n",
        "\n",
        "# type your code here\n",
        "names = ['wine', 'beer', 'pizza', 'burger', 'fries','cola', 'apple', 'donut', 'cake']\n",
        "values = [89,90,95,100,90,79,50,10]\n",
        "calories = [123,154,258,354,365,150,95,195]\n",
        "weights = [600,500,150,200,150,600,250,150,180]\n",
        "foods = buildMenu(names, values, calories,weights)\n",
        "testGreedys(foods, 2000)"
      ]
    },
    {
      "cell_type": "markdown",
      "id": "ba95a8c6",
      "metadata": {
        "id": "ba95a8c6"
      },
      "source": [
        "Task 3: Test your modified code to test the greedy algorithm to select food items with your additional weight."
      ]
    },
    {
      "cell_type": "code",
      "execution_count": null,
      "id": "9d9b25c1",
      "metadata": {
        "id": "9d9b25c1",
        "colab": {
          "base_uri": "https://localhost:8080/"
        },
        "outputId": "e56a9c09-efcc-412f-b9c9-131a066ea617"
      },
      "outputs": [
        {
          "output_type": "stream",
          "name": "stdout",
          "text": [
            "Use greedy by value to allocate 500 calories\n",
            "Total value of items taken = 189.0\n",
            "    burger: <100, 354, 200>\n",
            "    wine: <89, 123, 600>\n",
            "\n",
            "Use greedy by cost to allocate 500 calories\n",
            "Total value of items taken = 218.0\n",
            "    apple: <50, 95, 250>\n",
            "    wine: <89, 123, 600>\n",
            "    cola: <79, 150, 600>\n",
            "\n",
            "Use greedy by density to allocate 500 calories\n",
            "Total value of items taken = 258.0\n",
            "    wine: <89, 123, 600>\n",
            "    beer: <90, 154, 500>\n",
            "    cola: <79, 150, 600>\n",
            "\n",
            "Use greedy by weight to allocate 500 calories\n",
            "Total value of items taken = 258.0\n",
            "    wine: <89, 123, 600>\n",
            "    cola: <79, 150, 600>\n",
            "    beer: <90, 154, 500>\n"
          ]
        }
      ],
      "source": [
        "# type your code here\n",
        "\n",
        "names = ['wine', 'beer', 'pizza', 'burger', 'fries','cola', 'apple', 'donut', 'cake']\n",
        "values = [89,90,95,100,90,79,50,10]\n",
        "calories = [123,154,258,354,365,150,95,195]\n",
        "weights = [600,500,150,200,150,600,250,150,180]\n",
        "foods = buildMenu(names, values, calories,weights)\n",
        "testGreedys(foods, 500)"
      ]
    },
    {
      "cell_type": "markdown",
      "id": "1baef0aa",
      "metadata": {
        "id": "1baef0aa"
      },
      "source": [
        "*9*. Create method to use  Bruteforce algorithm instead of greedy algorithm"
      ]
    },
    {
      "cell_type": "code",
      "execution_count": null,
      "id": "3f61953e",
      "metadata": {
        "id": "3f61953e"
      },
      "outputs": [],
      "source": [
        "def maxVal(toConsider, avail):\n",
        "    \"\"\"Assumes toConsider a list of items, avail a weight\n",
        "       Returns a tuple of the total value of a solution to the\n",
        "         0/1 knapsack problem and the items of that solution\"\"\"\n",
        "    if toConsider == [] or avail == 0:\n",
        "        result = (0, ())\n",
        "    elif toConsider[0].getCost() > avail:\n",
        "        #Explore right branch only\n",
        "        result = maxVal(toConsider[1:], avail)\n",
        "    else:\n",
        "        nextItem = toConsider[0]\n",
        "        #Explore left branch\n",
        "        withVal, withToTake = maxVal(toConsider[1:],\n",
        "                                     avail - nextItem.getCost())\n",
        "        withVal += nextItem.getValue()\n",
        "        #Explore right branch\n",
        "        withoutVal, withoutToTake = maxVal(toConsider[1:], avail)\n",
        "        #Choose better branch\n",
        "        if withVal > withoutVal:\n",
        "            result = (withVal, withToTake + (nextItem,))\n",
        "        else:\n",
        "            result = (withoutVal, withoutToTake)\n",
        "    return result"
      ]
    },
    {
      "cell_type": "code",
      "execution_count": null,
      "id": "601e6dfe",
      "metadata": {
        "id": "601e6dfe"
      },
      "outputs": [],
      "source": [
        "def testMaxVal(foods, maxUnits, printItems = True):\n",
        "    print('Use search tree to allocate', maxUnits,\n",
        "          'calories')\n",
        "    val, taken = maxVal(foods, maxUnits)\n",
        "    print('Total costs of foods taken =', val)\n",
        "    if printItems:\n",
        "        for item in taken:\n",
        "            print('   ', item)"
      ]
    },
    {
      "cell_type": "code",
      "execution_count": null,
      "id": "f4c33d92",
      "metadata": {
        "id": "f4c33d92",
        "outputId": "d136e389-c72b-4ec9-c8f1-9043c351a1bf",
        "colab": {
          "base_uri": "https://localhost:8080/"
        }
      },
      "outputs": [
        {
          "output_type": "stream",
          "name": "stdout",
          "text": [
            "Use search tree to allocate 1000 calories\n",
            "Total costs of foods taken = 424\n",
            "    apple: <50, 95, 250>\n",
            "    burger: <100, 354, 200>\n",
            "    pizza: <95, 258, 150>\n",
            "    beer: <90, 154, 500>\n",
            "    wine: <89, 123, 600>\n"
          ]
        }
      ],
      "source": [
        "names = ['wine', 'beer', 'pizza', 'burger', 'fries','cola', 'apple', 'donut', 'cake']\n",
        "values = [89,90,95,100,90,79,50,10]\n",
        "calories = [123,154,258,354,365,150,95,195]\n",
        "foods = buildMenu(names, values, calories,weights)\n",
        "testMaxVal(foods, 1000)"
      ]
    },
    {
      "cell_type": "markdown",
      "id": "5e8ee81f",
      "metadata": {
        "id": "5e8ee81f"
      },
      "source": [
        "#### Supplementary Activity:"
      ]
    },
    {
      "cell_type": "markdown",
      "id": "f7eb02e1",
      "metadata": {
        "id": "f7eb02e1"
      },
      "source": [
        "* Choose a real-world problem that solves knapsacks problem\n",
        "* Use the greedy and brute force algorithm to solve knapsacks problem\n",
        "\n"
      ]
    },
    {
      "cell_type": "markdown",
      "id": "8bbdd39c",
      "metadata": {
        "id": "8bbdd39c"
      },
      "source": [
        "#### Conclusion:"
      ]
    },
    {
      "cell_type": "markdown",
      "id": "fb608ce3",
      "metadata": {
        "id": "fb608ce3"
      },
      "source": [
        "#The real-world problem that I choose is Gift Selection. In selecting a gift to a person you will look into the price and/or sentimental value of that gift to a person. There are kinds of people that wants a balanced price and a sentimental  value, people who are conscious about price, and people who would be glad to have the things they want."
      ]
    },
    {
      "cell_type": "code",
      "execution_count": null,
      "id": "3945391c",
      "metadata": {
        "id": "3945391c",
        "colab": {
          "base_uri": "https://localhost:8080/"
        },
        "outputId": "8ba8feaa-14e8-4e5a-9006-d373bda03e76"
      },
      "outputs": [
        {
          "output_type": "stream",
          "name": "stdout",
          "text": [
            "Use greedy by cost to find 1500 Cost\n",
            "Total value of items taken = 1450.0\n",
            "    T-Shirt: <500, 90>\n",
            "    Mousepad: <400, 65>\n",
            "    Phone Charger: <350, 75>\n",
            "    Cellphone Case: <200, 55>\n",
            "Use greedy by Sentimental Value to find 1500 Cost\n",
            "Total value of items taken = 1480.0\n",
            "    T-Shirt: <500, 90>\n",
            "    Phone Charger: <350, 75>\n",
            "    Mousepad: <400, 65>\n",
            "    Tumbler: <150, 60>\n",
            "    Mug: <80, 50>\n"
          ]
        }
      ],
      "source": [
        "#GREEDY\n",
        "class Gift(object):\n",
        "    def __init__(self, n, c, v):\n",
        "        self.name = n\n",
        "        self.cost = c\n",
        "        self.svalue = v\n",
        "\n",
        "    def getCost(self):\n",
        "        return self.cost\n",
        "\n",
        "    def getSValue(self):\n",
        "        return self.svalue\n",
        "\n",
        "    def __str__(self):\n",
        "        return self.name + ': <' + str(self.cost) + ', ' + str(self.svalue) + '>'\n",
        "\n",
        "def buildOption(names, costs, svalues):\n",
        "    option = []\n",
        "    for i in range(len(names)):\n",
        "      option.append(Gift(names[i], costs[i], svalues[i]))\n",
        "    return option\n",
        "\n",
        "def greedy(items, maxCost, keyFunction):\n",
        "    itemsCopy = sorted(items, key=keyFunction, reverse=True)\n",
        "    result = []\n",
        "    totalCost, totalSValue = 0.0, 0.0\n",
        "    for i in range(len(itemsCopy)):\n",
        "        if (totalCost + itemsCopy[i].getCost()) <= maxCost:\n",
        "            result.append(itemsCopy[i])\n",
        "            totalCost += itemsCopy[i].getCost()\n",
        "            totalSValue += itemsCopy[i].getSValue()\n",
        "    return (result, totalCost)\n",
        "\n",
        "def testGreedy(items, constraint, keyFunction):\n",
        "    taken, val = greedy(items, constraint, keyFunction)\n",
        "    print('Total value of items taken =', val)\n",
        "    for item in taken:\n",
        "        print('   ', item)\n",
        "\n",
        "def testGreedys(gifts, maxUnits):\n",
        "    print('Use greedy by cost to find', maxUnits, 'Cost')\n",
        "    testGreedy(gifts, maxUnits, Gift.getCost )\n",
        "    print('Use greedy by Sentimental Value to find', maxUnits, 'Cost')\n",
        "    testGreedy(gifts, maxUnits, Gift.getSValue)\n",
        "\n",
        "names = ['Tumbler', 'Mug', 'T-Shirt', 'Earphones', 'Cellphone Case', 'Mousepad', 'Phone Charger']\n",
        "costs = [150, 80, 500, 300, 200, 400, 350]\n",
        "svalues = [60, 50, 90, 60, 55, 65, 75]\n",
        "gifts = buildOption(names, costs, svalues)\n",
        "testGreedys(gifts, 1500)\n",
        "\n"
      ]
    },
    {
      "cell_type": "markdown",
      "source": [],
      "metadata": {
        "id": "n71r551lMAif"
      },
      "id": "n71r551lMAif"
    },
    {
      "cell_type": "code",
      "source": [
        "#BRUTEFORCE\n",
        "def maxVal(toConsider, avail):\n",
        "    \"\"\"Assumes toConsider a list of items, avail a weight\n",
        "       Returns a tuple of the total value of a solution to the\n",
        "         0/1 knapsack problem and the items of that solution\"\"\"\n",
        "    if toConsider == [] or avail == 0:\n",
        "        result = (0, ())\n",
        "    elif toConsider[0].getCost() > avail:\n",
        "        #Explore right branch only\n",
        "        result = maxVal(toConsider[1:], avail)\n",
        "    else:\n",
        "        nextItem = toConsider[0]\n",
        "        #Explore left branch\n",
        "        withVal, withToTake = maxVal(toConsider[1:],\n",
        "                                     avail - nextItem.getCost())\n",
        "        withVal += nextItem.getCost()\n",
        "        #Explore right branch\n",
        "        withoutVal, withoutToTake = maxVal(toConsider[1:], avail)\n",
        "        #Choose better branch\n",
        "        if withVal > withoutVal:\n",
        "            result = (withVal, withToTake + (nextItem,))\n",
        "        else:\n",
        "            result = (withoutVal, withoutToTake)\n",
        "    return result\n",
        "\n",
        "def testMaxVal(gifts, maxUnits, printItems = True):\n",
        "    print('Use search tree to allocate', maxUnits,\n",
        "          'cost')\n",
        "    val, taken = maxVal(gifts, maxUnits)\n",
        "    print('Total costs of gifts taken =', val)\n",
        "    if printItems:\n",
        "        for item in taken:\n",
        "            print('   ', item)\n",
        "\n",
        "\n",
        "names = ['Tumbler', 'Mug', 'T-Shirt', 'Earphones', 'Cellphone Case', 'Mousepad', 'Phone Charger']\n",
        "costs = [150, 80, 500, 300, 200, 400, 350]\n",
        "svalues = [60, 50, 90, 60, 55, 65, 75]\n",
        "gifts = buildOption(names, costs, svalues)\n",
        "testMaxVal(gifts, 1200)"
      ],
      "metadata": {
        "colab": {
          "base_uri": "https://localhost:8080/"
        },
        "id": "7kg0s1uIJRcQ",
        "outputId": "53f82579-dacc-4c5f-9532-4e5ce1a6bacc"
      },
      "id": "7kg0s1uIJRcQ",
      "execution_count": null,
      "outputs": [
        {
          "output_type": "stream",
          "name": "stdout",
          "text": [
            "Use search tree to allocate 1200 cost\n",
            "Total costs of gifts taken = 1200\n",
            "    Mousepad: <400, 65>\n",
            "    Earphones: <300, 60>\n",
            "    T-Shirt: <500, 90>\n"
          ]
        }
      ]
    },
    {
      "cell_type": "markdown",
      "source": [
        "#CONCLUSION"
      ],
      "metadata": {
        "id": "wCD3ivgXMKCf"
      },
      "id": "wCD3ivgXMKCf"
    },
    {
      "cell_type": "markdown",
      "source": [
        "In conclusion for this Activity. I have understand the concept of how the Greedy works where it will prioritize the cost/value depending on what you choose while for the Bruteforce I only understood a little. The Greedy Alogorithm is efficient as it can save time but you must know what you prioritize."
      ],
      "metadata": {
        "id": "uM5l3wsTMORP"
      },
      "id": "uM5l3wsTMORP"
    },
    {
      "cell_type": "markdown",
      "source": [
        "https://colab.research.google.com/drive/1Dg4GyRhvLDzQ3NZ_Id38Nxm3SuVWUOxn?usp=sharing"
      ],
      "metadata": {
        "id": "DF9vk0OgQqTf"
      },
      "id": "DF9vk0OgQqTf"
    }
  ],
  "metadata": {
    "kernelspec": {
      "display_name": "Python 3",
      "language": "python",
      "name": "python3"
    },
    "language_info": {
      "codemirror_mode": {
        "name": "ipython",
        "version": 3
      },
      "file_extension": ".py",
      "mimetype": "text/x-python",
      "name": "python",
      "nbconvert_exporter": "python",
      "pygments_lexer": "ipython3",
      "version": "3.7.10"
    },
    "colab": {
      "provenance": []
    }
  },
  "nbformat": 4,
  "nbformat_minor": 5
}