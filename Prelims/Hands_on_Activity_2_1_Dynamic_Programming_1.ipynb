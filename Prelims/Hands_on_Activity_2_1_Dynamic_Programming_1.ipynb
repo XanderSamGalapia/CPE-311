{
  "cells": [
    {
      "cell_type": "markdown",
      "id": "f1c6ec95",
      "metadata": {
        "id": "f1c6ec95"
      },
      "source": [
        "# Hands-on Activity 2.1 : Dynamic Programming"
      ]
    },
    {
      "cell_type": "markdown",
      "source": [],
      "metadata": {
        "id": "BlFiuA6OSJs4"
      },
      "id": "BlFiuA6OSJs4"
    },
    {
      "cell_type": "markdown",
      "id": "56dacba1",
      "metadata": {
        "id": "56dacba1"
      },
      "source": [
        "#### Objective(s):\n",
        "\n",
        "This activity aims to demonstrate how to use dynamic programming to solve problems."
      ]
    },
    {
      "cell_type": "markdown",
      "id": "e51f84e3",
      "metadata": {
        "id": "e51f84e3"
      },
      "source": [
        "#### Intended Learning Outcomes (ILOs):\n",
        "* Differentiate recursion method from dynamic programming to solve problems.\n",
        "* Demonstrate how to  solve real-world problems using dynamic programming\n"
      ]
    },
    {
      "cell_type": "markdown",
      "id": "39047b1a",
      "metadata": {
        "id": "39047b1a"
      },
      "source": [
        "#### Resources:\n",
        "* Jupyter Notebook\n"
      ]
    },
    {
      "cell_type": "markdown",
      "id": "cb5360c0",
      "metadata": {
        "id": "cb5360c0"
      },
      "source": [
        "#### Procedures:"
      ]
    },
    {
      "cell_type": "markdown",
      "id": "206a914c",
      "metadata": {
        "id": "206a914c"
      },
      "source": [
        "1. Create a code that demonstrate how to use recursion method to solve problem"
      ]
    },
    {
      "cell_type": "markdown",
      "id": "5744a876",
      "metadata": {
        "id": "5744a876"
      },
      "source": [
        "2. Create a program codes that demonstrate how to use dynamic programming to solve the same problem"
      ]
    },
    {
      "cell_type": "markdown",
      "id": "8e3f6572",
      "metadata": {
        "id": "8e3f6572"
      },
      "source": [
        "##### Question:\n",
        "Explain the difference of using the recursion from dynamic programming using the given sample codes to solve the same problem"
      ]
    },
    {
      "cell_type": "markdown",
      "id": "b5a71b53",
      "metadata": {
        "id": "b5a71b53"
      },
      "source": [
        "Type your answer here:\n",
        "\n",
        "\n",
        "\n"
      ]
    },
    {
      "cell_type": "markdown",
      "id": "60074702",
      "metadata": {
        "id": "60074702"
      },
      "source": [
        "3. Create a sample program codes to simulate bottom-up dynamic programming"
      ]
    },
    {
      "cell_type": "markdown",
      "id": "e629eb89",
      "metadata": {
        "id": "e629eb89"
      },
      "source": [
        "4. Create a sample program codes that simulate tops-down dynamic programming"
      ]
    },
    {
      "cell_type": "markdown",
      "id": "c2e2434c",
      "metadata": {
        "id": "c2e2434c"
      },
      "source": [
        "#### Question:\n",
        " Explain the difference between bottom-up from top-down dynamic programming using the given sample codes"
      ]
    },
    {
      "cell_type": "markdown",
      "id": "ac97e063",
      "metadata": {
        "id": "ac97e063"
      },
      "source": [
        "Type your answer here:\n",
        "\n",
        "\n",
        "\n",
        "\n"
      ]
    },
    {
      "cell_type": "markdown",
      "id": "f7a5bfbd",
      "metadata": {
        "id": "f7a5bfbd"
      },
      "source": [
        "0/1 Knapsack Problem\n",
        "\n",
        "* Analyze three different techniques to solve knapsacks problem\n",
        "1. Recursion\n",
        "2. Dynamic Programming\n",
        "3. Memoization"
      ]
    },
    {
      "cell_type": "code",
      "source": [
        "#sample code for knapsack problem using recursion\n",
        "def rec_knapSack(w, wt, val, n):\n",
        "\n",
        "  #base case\n",
        "  #defined as nth item is empty;\n",
        "  #or the capacity w is 0\n",
        "  if n == 0 or w == 0:\n",
        "    return 0\n",
        "\n",
        "  #if weight of the nth item is more than\n",
        "  #the capacity W, then this item cannot be included\n",
        "  #as part of the optimal solution\n",
        "  if(wt[n-1] > w):\n",
        "    return rec_knapSack(w, wt, val, n-1)\n",
        "\n",
        "  #return the maximum of the two cases:\n",
        "  # (1) include the nth item\n",
        "  # (2) don't include the nth item\n",
        "  else:\n",
        "    return max(\n",
        "        val[n-1] + rec_knapSack(\n",
        "            w-wt[n-1], wt, val, n-1),\n",
        "            rec_knapSack(w, wt, val, n-1)\n",
        "    )"
      ],
      "metadata": {
        "id": "15SVHF85_1Ji"
      },
      "id": "15SVHF85_1Ji",
      "execution_count": null,
      "outputs": []
    },
    {
      "cell_type": "code",
      "source": [
        "#To test:\n",
        "val = [60, 100, 120, 200] #values for the items\n",
        "wt = [10, 20, 30, 40] #weight of the items\n",
        "w = 40 #knapsack weight capacity\n",
        "n = len(val) #number of items\n",
        "\n",
        "rec_knapSack(w, wt, val, n)"
      ],
      "metadata": {
        "colab": {
          "base_uri": "https://localhost:8080/"
        },
        "id": "b1D3YRJ7cMqU",
        "outputId": "de7567ff-fe2c-414a-b1f5-df39a445d218"
      },
      "id": "b1D3YRJ7cMqU",
      "execution_count": null,
      "outputs": [
        {
          "output_type": "execute_result",
          "data": {
            "text/plain": [
              "200"
            ]
          },
          "metadata": {},
          "execution_count": 48
        }
      ]
    },
    {
      "cell_type": "code",
      "source": [
        "#Dynamic Programming for the Knapsack Problem\n",
        "def DP_knapSack(w, wt, val, n):\n",
        "  #create the table\n",
        "  table = [[0 for x in range(w+1)] for x in range (n+1)]\n",
        "\n",
        "  #populate the table in a bottom-up approach\n",
        "  for i in range(n+1):\n",
        "    for w in range(w+1):\n",
        "      if i == 0 or w == 0:\n",
        "        table[i][w] = 0\n",
        "      elif wt[i-1] <= w:\n",
        "        table[i][w] = max(val[i-1] + table[i-1][w-wt[i-1]],\n",
        "                          table[i-1][w])\n",
        "  return table[n][w]"
      ],
      "metadata": {
        "id": "A8OU1sUJ_1ES"
      },
      "id": "A8OU1sUJ_1ES",
      "execution_count": null,
      "outputs": []
    },
    {
      "cell_type": "code",
      "source": [
        "#Sample for top-down DP approach (memoization)\n",
        "#initialize the list of items\n",
        "val = [60, 100, 120]\n",
        "wt = [10, 20, 30]\n",
        "w = 50\n",
        "n = len(val)\n",
        "\n",
        "#initialize the container for the values that have to be stored\n",
        "#values are initialized to -1\n",
        "calc =[[-1 for i in range(w+1)] for j in range(n+1)]\n",
        "\n",
        "\n",
        "def mem_knapSack(wt, val, w, n):\n",
        "  #base conditions\n",
        "  if n == 0 or w == 0:\n",
        "    return 0\n",
        "  if calc[n][w] != -1:\n",
        "    return calc[n][w]\n",
        "\n",
        "  #compute for the other cases\n",
        "  if wt[n-1] <= w:\n",
        "    calc[n][w] = max(val[n-1] + mem_knapSack(wt, val, w-wt[n-1], n-1),\n",
        "                     mem_knapSack(wt, val, w, n-1))\n",
        "    return calc[n][w]\n",
        "  elif wt[n-1] > w:\n",
        "    calc[n][w] = mem_knapSack(wt, val, w, n-1)\n",
        "    return calc[n][w]\n",
        "\n",
        "mem_knapSack(wt, val, w, n)"
      ],
      "metadata": {
        "id": "VgwTX-XT_0_h",
        "colab": {
          "base_uri": "https://localhost:8080/"
        },
        "outputId": "3a2a9265-0b92-45c5-e1a2-6b5b82f8e49a"
      },
      "id": "VgwTX-XT_0_h",
      "execution_count": null,
      "outputs": [
        {
          "output_type": "execute_result",
          "data": {
            "text/plain": [
              "220"
            ]
          },
          "metadata": {},
          "execution_count": 73
        }
      ]
    },
    {
      "cell_type": "markdown",
      "source": [
        "**Code Analysis**\n",
        "\n",
        "Type your answer here."
      ],
      "metadata": {
        "id": "-UXSSblDcF8T"
      },
      "id": "-UXSSblDcF8T"
    },
    {
      "cell_type": "markdown",
      "source": [
        "## Seatwork 2.1"
      ],
      "metadata": {
        "id": "IGsdUGCUcTFd"
      },
      "id": "IGsdUGCUcTFd"
    },
    {
      "cell_type": "markdown",
      "id": "0462053d",
      "metadata": {
        "id": "0462053d"
      },
      "source": [
        "Task 1: Modify the three techniques to include additional criterion in the knapsack problems"
      ]
    },
    {
      "cell_type": "code",
      "execution_count": null,
      "id": "ed2f6186",
      "metadata": {
        "id": "ed2f6186"
      },
      "outputs": [],
      "source": [
        "#type your code here\n",
        "#Recursion\n",
        "\n",
        "def recurcsion()\n",
        "\n",
        "\n",
        "\n",
        "\n",
        "#Dynamic\n",
        "\n",
        "\n",
        "\n",
        "\n",
        "#Memoization"
      ]
    },
    {
      "cell_type": "code",
      "source": [
        "#Recursion\n",
        "def recursion(w, wt, val, n):\n",
        "\n",
        "  if n == 0 or w == 0:\n",
        "    return 0\n",
        "\n",
        "  if(wt[n-1] > w):\n",
        "    return recursion(w, wt, val, n-1)\n",
        "\n",
        "  else:\n",
        "    return max(\n",
        "        val[n-1] + recursion(\n",
        "            w-wt[n-1], wt, val, n-1),\n",
        "            recursion(w, wt, val, n-1)\n",
        "    )\n",
        "\n",
        "val = [60, 100, 120, 200]\n",
        "wt = [10, 20, 30, 40]\n",
        "w = 40\n",
        "n = len(val)\n",
        "\n",
        "print(\"Recursion\")\n",
        "print(\"With Weight Limit of \", w, \" the maximum Value we can get is\" ,+ recursion(w, wt, val, n))\n",
        "print(\"\")\n",
        "\n"
      ],
      "metadata": {
        "colab": {
          "base_uri": "https://localhost:8080/"
        },
        "id": "e-eHdHiY-5yB",
        "outputId": "98dee332-75b6-4bfa-f883-53ed63c8561a"
      },
      "id": "e-eHdHiY-5yB",
      "execution_count": null,
      "outputs": [
        {
          "output_type": "stream",
          "name": "stdout",
          "text": [
            "Recursion\n",
            "With Weight Limit of  40  the maximum Value we can get is 200\n",
            "\n"
          ]
        }
      ]
    },
    {
      "cell_type": "code",
      "source": [
        "#Recursion\n",
        "def recursion(w, wt, cost,a, n):\n",
        "\n",
        "  if n == 0 or w == 0:\n",
        "    return 0\n",
        "\n",
        "  if(wt[n-1] > w):\n",
        "    return recursion(w, wt, val,a, n-1)\n",
        "\n",
        "  else:\n",
        "    return max(\n",
        "        val[n-1] + recursion(\n",
        "            w-wt[n-1], wt, cost,a, n-1),\n",
        "            recursion(w, wt, cost,a, n-1)\n",
        "    )\n",
        "\n",
        "cost = [60, 100, 120, 200]\n",
        "wt = [10, 20, 30, 40]\n",
        "w = 40\n",
        "a = [5, 2,]\n",
        "n = len(val)\n",
        "\n",
        "print(\"Recursion\")\n",
        "print(\"With Weight Limit of \", w, \" the maximum Value we can get is\" ,+ recursion(w, wt, val, n))\n",
        "print(\"\")\n",
        "\n"
      ],
      "metadata": {
        "colab": {
          "base_uri": "https://localhost:8080/",
          "height": 291
        },
        "id": "Pgiof8FhN5Q3",
        "outputId": "825fa2a9-0ce0-4e8b-d9cb-ddf69e100f6a"
      },
      "id": "Pgiof8FhN5Q3",
      "execution_count": null,
      "outputs": [
        {
          "output_type": "stream",
          "name": "stdout",
          "text": [
            "Recursion\n"
          ]
        },
        {
          "output_type": "error",
          "ename": "TypeError",
          "evalue": "unsupported operand type(s) for +: 'int' and 'str'",
          "traceback": [
            "\u001b[0;31m---------------------------------------------------------------------------\u001b[0m",
            "\u001b[0;31mTypeError\u001b[0m                                 Traceback (most recent call last)",
            "\u001b[0;32m<ipython-input-91-07826862d459>\u001b[0m in \u001b[0;36m<cell line: 24>\u001b[0;34m()\u001b[0m\n\u001b[1;32m     22\u001b[0m \u001b[0;34m\u001b[0m\u001b[0m\n\u001b[1;32m     23\u001b[0m \u001b[0mprint\u001b[0m\u001b[0;34m(\u001b[0m\u001b[0;34m\"Recursion\"\u001b[0m\u001b[0;34m)\u001b[0m\u001b[0;34m\u001b[0m\u001b[0;34m\u001b[0m\u001b[0m\n\u001b[0;32m---> 24\u001b[0;31m \u001b[0mprint\u001b[0m\u001b[0;34m(\u001b[0m\u001b[0;34m\"With Weight Limit of \"\u001b[0m\u001b[0;34m,\u001b[0m \u001b[0mw\u001b[0m\u001b[0;34m,\u001b[0m \u001b[0;34m\" the maximum Value we can get is\"\u001b[0m \u001b[0;34m,\u001b[0m\u001b[0;34m+\u001b[0m \u001b[0mrecursion\u001b[0m\u001b[0;34m(\u001b[0m\u001b[0mw\u001b[0m\u001b[0;34m,\u001b[0m \u001b[0mwt\u001b[0m\u001b[0;34m,\u001b[0m \u001b[0mval\u001b[0m\u001b[0;34m,\u001b[0m\u001b[0ma\u001b[0m\u001b[0;34m,\u001b[0m \u001b[0mn\u001b[0m\u001b[0;34m)\u001b[0m \u001b[0;34m+\u001b[0m \u001b[0;34m\"Amount of:\"\u001b[0m \u001b[0;34m,\u001b[0m\u001b[0ma\u001b[0m\u001b[0;34m)\u001b[0m\u001b[0;34m\u001b[0m\u001b[0;34m\u001b[0m\u001b[0m\n\u001b[0m\u001b[1;32m     25\u001b[0m \u001b[0mprint\u001b[0m\u001b[0;34m(\u001b[0m\u001b[0;34m\"\"\u001b[0m\u001b[0;34m)\u001b[0m\u001b[0;34m\u001b[0m\u001b[0;34m\u001b[0m\u001b[0m\n\u001b[1;32m     26\u001b[0m \u001b[0;34m\u001b[0m\u001b[0m\n",
            "\u001b[0;31mTypeError\u001b[0m: unsupported operand type(s) for +: 'int' and 'str'"
          ]
        }
      ]
    },
    {
      "cell_type": "code",
      "source": [
        "\n",
        "#Dynamic Programming\n",
        "def DP_knapSack(w, wt, val, n):\n",
        "  table = [[0 for x in range(w+1)] for x in range (n+1)]\n",
        "\n",
        "  for i in range(n+1):\n",
        "    for w in range(w+1):\n",
        "      if i == 0 or w == 0:\n",
        "        table[i][w] = 0\n",
        "      elif wt[i-1] <= w:\n",
        "        table[i][w] = max(val[i-1] + table[i-1][w-wt[i-1]],\n",
        "                          table[i-1][w])\n",
        "  return table[n][w]\n",
        "\n",
        "val = [60, 100, 120,200]\n",
        "wt = [10, 20, 30, 40]\n",
        "w = 70\n",
        "n = len(val)\n",
        "\n",
        "DP_knapSack(w, wt, val, n)"
      ],
      "metadata": {
        "id": "YZMIFR1IM7dv"
      },
      "id": "YZMIFR1IM7dv",
      "execution_count": null,
      "outputs": []
    },
    {
      "cell_type": "markdown",
      "id": "d97e864e",
      "metadata": {
        "id": "d97e864e"
      },
      "source": [
        "Fibonacci Numbers"
      ]
    },
    {
      "cell_type": "code",
      "source": [
        "def fibTD(n,memo):\n",
        "  if n == 1:\n",
        "    return 1\n",
        "  if n == 2 :\n",
        "    return 2\n",
        "  if n in memo:\n",
        "    return memo[n]\n",
        "  else:\n",
        "      answer = fibTD(n-1, memo) + fibTD(n-2, memo)\n",
        "      memo[n] = answer\n",
        "      return answer\n",
        "\n",
        "thisDict = {}\n",
        "number =  int(input(\"Enter a number to calculate fib: \"))\n",
        "fibTD(number, thisDict)"
      ],
      "metadata": {
        "id": "HoqkUdvj_2ZZ",
        "colab": {
          "base_uri": "https://localhost:8080/"
        },
        "outputId": "0c7fdb28-e841-4a43-9974-34b889353b6e"
      },
      "id": "HoqkUdvj_2ZZ",
      "execution_count": null,
      "outputs": [
        {
          "name": "stdout",
          "output_type": "stream",
          "text": [
            "Enter a number to calculate fib: 10\n"
          ]
        },
        {
          "output_type": "execute_result",
          "data": {
            "text/plain": [
              "89"
            ]
          },
          "metadata": {},
          "execution_count": 71
        }
      ]
    },
    {
      "cell_type": "markdown",
      "id": "f44e88aa",
      "metadata": {
        "id": "f44e88aa"
      },
      "source": [
        "Task 2: Create a sample program that find the nth number of Fibonacci Series using Dynamic Programming"
      ]
    },
    {
      "cell_type": "code",
      "execution_count": null,
      "id": "745871be",
      "metadata": {
        "id": "745871be"
      },
      "outputs": [],
      "source": [
        "#type your code here\n"
      ]
    },
    {
      "cell_type": "markdown",
      "id": "070ddd75",
      "metadata": {
        "id": "070ddd75"
      },
      "source": [
        "## Supplementary Problem (HOA 2.1 Submission):\n",
        "* Choose a real-life problem\n",
        "* Use recursion and dynamic programming to solve the problem"
      ]
    },
    {
      "cell_type": "code",
      "execution_count": null,
      "id": "86eef507",
      "metadata": {
        "id": "86eef507"
      },
      "outputs": [],
      "source": [
        "#type your code here for recursion programming solution\n",
        "\n"
      ]
    },
    {
      "cell_type": "code",
      "execution_count": null,
      "id": "73b071b6",
      "metadata": {
        "id": "73b071b6"
      },
      "outputs": [],
      "source": [
        "#type your code here for dynamic programming solution\n",
        "\n"
      ]
    },
    {
      "cell_type": "markdown",
      "id": "bb0ed6a9",
      "metadata": {
        "id": "bb0ed6a9"
      },
      "source": [
        "#### Conclusion"
      ]
    },
    {
      "cell_type": "code",
      "execution_count": null,
      "id": "9627d18c",
      "metadata": {
        "id": "9627d18c"
      },
      "outputs": [],
      "source": [
        "class Gift(object):\n",
        "  def __init__(self, n, c, v):\n",
        "    self.name = n\n",
        "    self.cost = c\n",
        "    self.svalue = v\n",
        "  def getCost(self):\n",
        "    return self.cost\n",
        "  def getSValue(self):\n",
        "    return self.svalue\n",
        "  def __str__(self):\n",
        "    return self.name + ': <' + str(self.cost) + ', ' + str(self.svalue) + '>'\n",
        "  def buildOption(names, costs, svalues):\n",
        "option = []\n",
        "for i in range(len(names)):\n",
        "option.append(Gift(names[i], costs[i], svalues[i]))\n",
        "return option\n",
        "def greedy(items, maxCost, keyFunction):\n",
        "itemsCopy = sorted(items, key=keyFunction, reverse=True)\n",
        "result = []\n",
        "totalCost, totalSValue = 0.0, 0.0\n",
        "for i in range(len(itemsCopy)):\n",
        "if (totalCost + itemsCopy[i].getCost()) <= maxCost:\n",
        "result.append(itemsCopy[i])\n",
        "totalCost += itemsCopy[i].getCost()\n",
        "totalSValue += itemsCopy[i].getSValue()\n",
        "return (result, totalCost)\n",
        "def testGreedy(items, constraint, keyFunction):\n",
        "taken, val = greedy(items, constraint, keyFunction)\n",
        "print('Total value of items taken =', val)\n",
        "for item in taken:\n",
        "print(' ', item)\n",
        "def testGreedys(gifts, maxUnits):\n"
      ]
    }
  ],
  "metadata": {
    "kernelspec": {
      "display_name": "Python 3",
      "language": "python",
      "name": "python3"
    },
    "language_info": {
      "codemirror_mode": {
        "name": "ipython",
        "version": 3
      },
      "file_extension": ".py",
      "mimetype": "text/x-python",
      "name": "python",
      "nbconvert_exporter": "python",
      "pygments_lexer": "ipython3",
      "version": "3.7.10"
    },
    "colab": {
      "provenance": []
    }
  },
  "nbformat": 4,
  "nbformat_minor": 5
}