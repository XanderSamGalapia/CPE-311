{
  "nbformat": 4,
  "nbformat_minor": 0,
  "metadata": {
    "colab": {
      "provenance": []
    },
    "kernelspec": {
      "name": "python3",
      "display_name": "Python 3"
    },
    "language_info": {
      "name": "python"
    }
  },
  "cells": [
    {
      "cell_type": "markdown",
      "source": [
        "\n",
        "\n",
        "# NAME: GALAPIA, XANDER SAM E.\n",
        "# COURSE CODE : CPE311"
      ],
      "metadata": {
        "id": "TFl9yxINqd1S"
      }
    },
    {
      "cell_type": "code",
      "source": [
        "class Node:\n",
        "  def __init__(self, newData, right = None):\n",
        "    self.data = newData\n",
        "    self.nextNode = right\n",
        "\n",
        "  def print(self):\n",
        "    #Print all nodes until nextNode == None\n",
        "    while self != None:\n",
        "      print(self.data)\n",
        "      self = self.nextNode\n",
        "\n",
        "  def addNode(self, newNode):\n",
        "    self.nextMode = newNode\n",
        "\n",
        "  def deleteNode(self):\n",
        "    pass\n",
        "\n",
        "\n",
        "root = Node('C')\n",
        "secondNode = Node('P')\n",
        "thirdNode = Node('E')\n",
        "\n",
        "root.addNode(secondNode)\n",
        "secondNode.addNode(thirdNode)\n",
        "\n",
        "root.print()\n"
      ],
      "metadata": {
        "colab": {
          "base_uri": "https://localhost:8080/"
        },
        "id": "LB9BliTiLBoe",
        "outputId": "77c3636e-7871-47aa-fcfc-590b99e1dbde"
      },
      "execution_count": null,
      "outputs": [
        {
          "output_type": "stream",
          "name": "stdout",
          "text": [
            "C\n"
          ]
        }
      ]
    }
  ]
}