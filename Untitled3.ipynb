{
  "nbformat": 4,
  "nbformat_minor": 0,
  "metadata": {
    "colab": {
      "provenance": []
    },
    "kernelspec": {
      "name": "python3",
      "display_name": "Python 3"
    },
    "language_info": {
      "name": "python"
    }
  },
  "cells": [
    {
      "cell_type": "markdown",
      "source": [
        "##Prelim Quiz 2"
      ],
      "metadata": {
        "id": "3-oQ5GdBCGtQ"
      }
    },
    {
      "cell_type": "markdown",
      "source": [
        "Maximum Value Contiguous Subsequence. Given a sequence of n real numbers A(1) ... A(n), determine a contiguous subsequence A(i) ... A(j) for which the sum of elements in the subsequence is maximized.\n",
        "\n",
        "\n",
        "\n",
        "n+1"
      ],
      "metadata": {
        "id": "J11cDQNkCCyA"
      }
    },
    {
      "cell_type": "code",
      "execution_count": null,
      "metadata": {
        "id": "WKY1XNH_Bcot"
      },
      "outputs": [],
      "source": [
        "def val()\n",
        "  if n == 0\n",
        "  if n => 0"
      ]
    }
  ]
}